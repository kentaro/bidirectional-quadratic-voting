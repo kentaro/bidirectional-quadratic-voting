{
 "cells": [
  {
   "cell_type": "markdown",
   "metadata": {},
   "source": [
    "# Bidirectional Quadratic Voting"
   ]
  },
  {
   "cell_type": "markdown",
   "metadata": {},
   "source": [
    "## Install Prerequisites"
   ]
  },
  {
   "cell_type": "code",
   "execution_count": 6,
   "metadata": {},
   "outputs": [
    {
     "name": "stdout",
     "output_type": "stream",
     "text": [
      "Requirement already satisfied: anyio==4.4.0 in ./.venv/lib/python3.12/site-packages (from -r requirements.txt (line 1)) (4.4.0)\n",
      "Requirement already satisfied: argon2-cffi==23.1.0 in ./.venv/lib/python3.12/site-packages (from -r requirements.txt (line 2)) (23.1.0)\n",
      "Requirement already satisfied: argon2-cffi-bindings==21.2.0 in ./.venv/lib/python3.12/site-packages (from -r requirements.txt (line 3)) (21.2.0)\n",
      "Requirement already satisfied: arrow==1.3.0 in ./.venv/lib/python3.12/site-packages (from -r requirements.txt (line 4)) (1.3.0)\n",
      "Requirement already satisfied: asttokens==2.4.1 in ./.venv/lib/python3.12/site-packages (from -r requirements.txt (line 5)) (2.4.1)\n",
      "Requirement already satisfied: async-lru==2.0.4 in ./.venv/lib/python3.12/site-packages (from -r requirements.txt (line 6)) (2.0.4)\n",
      "Requirement already satisfied: attrs==24.2.0 in ./.venv/lib/python3.12/site-packages (from -r requirements.txt (line 7)) (24.2.0)\n",
      "Requirement already satisfied: Babel==2.15.0 in ./.venv/lib/python3.12/site-packages (from -r requirements.txt (line 8)) (2.15.0)\n",
      "Requirement already satisfied: beautifulsoup4==4.12.3 in ./.venv/lib/python3.12/site-packages (from -r requirements.txt (line 9)) (4.12.3)\n",
      "Requirement already satisfied: bleach==6.1.0 in ./.venv/lib/python3.12/site-packages (from -r requirements.txt (line 10)) (6.1.0)\n",
      "Requirement already satisfied: certifi==2024.7.4 in ./.venv/lib/python3.12/site-packages (from -r requirements.txt (line 11)) (2024.7.4)\n",
      "Requirement already satisfied: cffi==1.17.0 in ./.venv/lib/python3.12/site-packages (from -r requirements.txt (line 12)) (1.17.0)\n",
      "Requirement already satisfied: charset-normalizer==3.3.2 in ./.venv/lib/python3.12/site-packages (from -r requirements.txt (line 13)) (3.3.2)\n",
      "Requirement already satisfied: comm==0.2.2 in ./.venv/lib/python3.12/site-packages (from -r requirements.txt (line 14)) (0.2.2)\n",
      "Requirement already satisfied: debugpy==1.8.5 in ./.venv/lib/python3.12/site-packages (from -r requirements.txt (line 15)) (1.8.5)\n",
      "Requirement already satisfied: decorator==5.1.1 in ./.venv/lib/python3.12/site-packages (from -r requirements.txt (line 16)) (5.1.1)\n",
      "Requirement already satisfied: defusedxml==0.7.1 in ./.venv/lib/python3.12/site-packages (from -r requirements.txt (line 17)) (0.7.1)\n",
      "Requirement already satisfied: executing==2.0.1 in ./.venv/lib/python3.12/site-packages (from -r requirements.txt (line 18)) (2.0.1)\n",
      "Requirement already satisfied: fastjsonschema==2.20.0 in ./.venv/lib/python3.12/site-packages (from -r requirements.txt (line 19)) (2.20.0)\n",
      "Requirement already satisfied: fqdn==1.5.1 in ./.venv/lib/python3.12/site-packages (from -r requirements.txt (line 20)) (1.5.1)\n",
      "Requirement already satisfied: h11==0.14.0 in ./.venv/lib/python3.12/site-packages (from -r requirements.txt (line 21)) (0.14.0)\n",
      "Requirement already satisfied: httpcore==1.0.5 in ./.venv/lib/python3.12/site-packages (from -r requirements.txt (line 22)) (1.0.5)\n",
      "Requirement already satisfied: httpx==0.27.0 in ./.venv/lib/python3.12/site-packages (from -r requirements.txt (line 23)) (0.27.0)\n",
      "Requirement already satisfied: idna==3.7 in ./.venv/lib/python3.12/site-packages (from -r requirements.txt (line 24)) (3.7)\n",
      "Requirement already satisfied: ipykernel==6.29.5 in ./.venv/lib/python3.12/site-packages (from -r requirements.txt (line 25)) (6.29.5)\n",
      "Requirement already satisfied: ipython==8.26.0 in ./.venv/lib/python3.12/site-packages (from -r requirements.txt (line 26)) (8.26.0)\n",
      "Requirement already satisfied: ipywidgets==8.1.3 in ./.venv/lib/python3.12/site-packages (from -r requirements.txt (line 27)) (8.1.3)\n",
      "Requirement already satisfied: isoduration==20.11.0 in ./.venv/lib/python3.12/site-packages (from -r requirements.txt (line 28)) (20.11.0)\n",
      "Requirement already satisfied: jedi==0.19.1 in ./.venv/lib/python3.12/site-packages (from -r requirements.txt (line 29)) (0.19.1)\n",
      "Requirement already satisfied: Jinja2==3.1.4 in ./.venv/lib/python3.12/site-packages (from -r requirements.txt (line 30)) (3.1.4)\n",
      "Requirement already satisfied: json5==0.9.25 in ./.venv/lib/python3.12/site-packages (from -r requirements.txt (line 31)) (0.9.25)\n",
      "Requirement already satisfied: jsonpointer==3.0.0 in ./.venv/lib/python3.12/site-packages (from -r requirements.txt (line 32)) (3.0.0)\n",
      "Requirement already satisfied: jsonschema==4.23.0 in ./.venv/lib/python3.12/site-packages (from -r requirements.txt (line 33)) (4.23.0)\n",
      "Requirement already satisfied: jsonschema-specifications==2023.12.1 in ./.venv/lib/python3.12/site-packages (from -r requirements.txt (line 34)) (2023.12.1)\n",
      "Requirement already satisfied: jupyter==1.0.0 in ./.venv/lib/python3.12/site-packages (from -r requirements.txt (line 35)) (1.0.0)\n",
      "Requirement already satisfied: jupyter-console==6.6.3 in ./.venv/lib/python3.12/site-packages (from -r requirements.txt (line 36)) (6.6.3)\n",
      "Requirement already satisfied: jupyter-events==0.10.0 in ./.venv/lib/python3.12/site-packages (from -r requirements.txt (line 37)) (0.10.0)\n",
      "Requirement already satisfied: jupyter-lsp==2.2.5 in ./.venv/lib/python3.12/site-packages (from -r requirements.txt (line 38)) (2.2.5)\n",
      "Requirement already satisfied: jupyter_client==8.6.2 in ./.venv/lib/python3.12/site-packages (from -r requirements.txt (line 39)) (8.6.2)\n",
      "Requirement already satisfied: jupyter_core==5.7.2 in ./.venv/lib/python3.12/site-packages (from -r requirements.txt (line 40)) (5.7.2)\n",
      "Requirement already satisfied: jupyter_server==2.14.2 in ./.venv/lib/python3.12/site-packages (from -r requirements.txt (line 41)) (2.14.2)\n",
      "Requirement already satisfied: jupyter_server_terminals==0.5.3 in ./.venv/lib/python3.12/site-packages (from -r requirements.txt (line 42)) (0.5.3)\n",
      "Requirement already satisfied: jupyterlab==4.2.4 in ./.venv/lib/python3.12/site-packages (from -r requirements.txt (line 43)) (4.2.4)\n",
      "Requirement already satisfied: jupyterlab_pygments==0.3.0 in ./.venv/lib/python3.12/site-packages (from -r requirements.txt (line 44)) (0.3.0)\n",
      "Requirement already satisfied: jupyterlab_server==2.27.3 in ./.venv/lib/python3.12/site-packages (from -r requirements.txt (line 45)) (2.27.3)\n",
      "Requirement already satisfied: jupyterlab_widgets==3.0.11 in ./.venv/lib/python3.12/site-packages (from -r requirements.txt (line 46)) (3.0.11)\n",
      "Requirement already satisfied: MarkupSafe==2.1.5 in ./.venv/lib/python3.12/site-packages (from -r requirements.txt (line 47)) (2.1.5)\n",
      "Requirement already satisfied: matplotlib-inline==0.1.7 in ./.venv/lib/python3.12/site-packages (from -r requirements.txt (line 48)) (0.1.7)\n",
      "Requirement already satisfied: mistune==3.0.2 in ./.venv/lib/python3.12/site-packages (from -r requirements.txt (line 49)) (3.0.2)\n",
      "Requirement already satisfied: nbclient==0.10.0 in ./.venv/lib/python3.12/site-packages (from -r requirements.txt (line 50)) (0.10.0)\n",
      "Requirement already satisfied: nbconvert==7.16.4 in ./.venv/lib/python3.12/site-packages (from -r requirements.txt (line 51)) (7.16.4)\n",
      "Requirement already satisfied: nbformat==5.10.4 in ./.venv/lib/python3.12/site-packages (from -r requirements.txt (line 52)) (5.10.4)\n",
      "Requirement already satisfied: nest-asyncio==1.6.0 in ./.venv/lib/python3.12/site-packages (from -r requirements.txt (line 53)) (1.6.0)\n",
      "Requirement already satisfied: notebook==7.2.1 in ./.venv/lib/python3.12/site-packages (from -r requirements.txt (line 54)) (7.2.1)\n",
      "Requirement already satisfied: notebook_shim==0.2.4 in ./.venv/lib/python3.12/site-packages (from -r requirements.txt (line 55)) (0.2.4)\n",
      "Requirement already satisfied: overrides==7.7.0 in ./.venv/lib/python3.12/site-packages (from -r requirements.txt (line 56)) (7.7.0)\n",
      "Requirement already satisfied: packaging==24.1 in ./.venv/lib/python3.12/site-packages (from -r requirements.txt (line 57)) (24.1)\n",
      "Requirement already satisfied: pandocfilters==1.5.1 in ./.venv/lib/python3.12/site-packages (from -r requirements.txt (line 58)) (1.5.1)\n",
      "Requirement already satisfied: parso==0.8.4 in ./.venv/lib/python3.12/site-packages (from -r requirements.txt (line 59)) (0.8.4)\n",
      "Requirement already satisfied: pexpect==4.9.0 in ./.venv/lib/python3.12/site-packages (from -r requirements.txt (line 60)) (4.9.0)\n",
      "Requirement already satisfied: platformdirs==4.2.2 in ./.venv/lib/python3.12/site-packages (from -r requirements.txt (line 61)) (4.2.2)\n",
      "Requirement already satisfied: prometheus_client==0.20.0 in ./.venv/lib/python3.12/site-packages (from -r requirements.txt (line 62)) (0.20.0)\n",
      "Requirement already satisfied: prompt_toolkit==3.0.47 in ./.venv/lib/python3.12/site-packages (from -r requirements.txt (line 63)) (3.0.47)\n",
      "Requirement already satisfied: psutil==6.0.0 in ./.venv/lib/python3.12/site-packages (from -r requirements.txt (line 64)) (6.0.0)\n",
      "Requirement already satisfied: ptyprocess==0.7.0 in ./.venv/lib/python3.12/site-packages (from -r requirements.txt (line 65)) (0.7.0)\n",
      "Requirement already satisfied: pure_eval==0.2.3 in ./.venv/lib/python3.12/site-packages (from -r requirements.txt (line 66)) (0.2.3)\n",
      "Requirement already satisfied: pycparser==2.22 in ./.venv/lib/python3.12/site-packages (from -r requirements.txt (line 67)) (2.22)\n",
      "Requirement already satisfied: Pygments==2.18.0 in ./.venv/lib/python3.12/site-packages (from -r requirements.txt (line 68)) (2.18.0)\n",
      "Requirement already satisfied: python-dateutil==2.9.0.post0 in ./.venv/lib/python3.12/site-packages (from -r requirements.txt (line 69)) (2.9.0.post0)\n",
      "Requirement already satisfied: python-json-logger==2.0.7 in ./.venv/lib/python3.12/site-packages (from -r requirements.txt (line 70)) (2.0.7)\n",
      "Requirement already satisfied: PyYAML==6.0.2 in ./.venv/lib/python3.12/site-packages (from -r requirements.txt (line 71)) (6.0.2)\n",
      "Requirement already satisfied: pyzmq==26.1.0 in ./.venv/lib/python3.12/site-packages (from -r requirements.txt (line 72)) (26.1.0)\n",
      "Requirement already satisfied: qtconsole==5.5.2 in ./.venv/lib/python3.12/site-packages (from -r requirements.txt (line 73)) (5.5.2)\n",
      "Requirement already satisfied: QtPy==2.4.1 in ./.venv/lib/python3.12/site-packages (from -r requirements.txt (line 74)) (2.4.1)\n",
      "Requirement already satisfied: referencing==0.35.1 in ./.venv/lib/python3.12/site-packages (from -r requirements.txt (line 75)) (0.35.1)\n",
      "Requirement already satisfied: requests==2.32.3 in ./.venv/lib/python3.12/site-packages (from -r requirements.txt (line 76)) (2.32.3)\n",
      "Requirement already satisfied: rfc3339-validator==0.1.4 in ./.venv/lib/python3.12/site-packages (from -r requirements.txt (line 77)) (0.1.4)\n",
      "Requirement already satisfied: rfc3986-validator==0.1.1 in ./.venv/lib/python3.12/site-packages (from -r requirements.txt (line 78)) (0.1.1)\n",
      "Requirement already satisfied: rpds-py==0.20.0 in ./.venv/lib/python3.12/site-packages (from -r requirements.txt (line 79)) (0.20.0)\n",
      "Requirement already satisfied: Send2Trash==1.8.3 in ./.venv/lib/python3.12/site-packages (from -r requirements.txt (line 80)) (1.8.3)\n",
      "Requirement already satisfied: setuptools==72.1.0 in ./.venv/lib/python3.12/site-packages (from -r requirements.txt (line 81)) (72.1.0)\n",
      "Requirement already satisfied: six==1.16.0 in ./.venv/lib/python3.12/site-packages (from -r requirements.txt (line 82)) (1.16.0)\n",
      "Requirement already satisfied: sniffio==1.3.1 in ./.venv/lib/python3.12/site-packages (from -r requirements.txt (line 83)) (1.3.1)\n",
      "Requirement already satisfied: soupsieve==2.5 in ./.venv/lib/python3.12/site-packages (from -r requirements.txt (line 84)) (2.5)\n",
      "Requirement already satisfied: stack-data==0.6.3 in ./.venv/lib/python3.12/site-packages (from -r requirements.txt (line 85)) (0.6.3)\n",
      "Requirement already satisfied: terminado==0.18.1 in ./.venv/lib/python3.12/site-packages (from -r requirements.txt (line 86)) (0.18.1)\n",
      "Requirement already satisfied: tinycss2==1.3.0 in ./.venv/lib/python3.12/site-packages (from -r requirements.txt (line 87)) (1.3.0)\n",
      "Requirement already satisfied: tornado==6.4.1 in ./.venv/lib/python3.12/site-packages (from -r requirements.txt (line 88)) (6.4.1)\n",
      "Requirement already satisfied: traitlets==5.14.3 in ./.venv/lib/python3.12/site-packages (from -r requirements.txt (line 89)) (5.14.3)\n",
      "Requirement already satisfied: types-python-dateutil==2.9.0.20240316 in ./.venv/lib/python3.12/site-packages (from -r requirements.txt (line 90)) (2.9.0.20240316)\n",
      "Requirement already satisfied: uri-template==1.3.0 in ./.venv/lib/python3.12/site-packages (from -r requirements.txt (line 91)) (1.3.0)\n",
      "Requirement already satisfied: urllib3==2.2.2 in ./.venv/lib/python3.12/site-packages (from -r requirements.txt (line 92)) (2.2.2)\n",
      "Requirement already satisfied: wcwidth==0.2.13 in ./.venv/lib/python3.12/site-packages (from -r requirements.txt (line 93)) (0.2.13)\n",
      "Requirement already satisfied: webcolors==24.6.0 in ./.venv/lib/python3.12/site-packages (from -r requirements.txt (line 94)) (24.6.0)\n",
      "Requirement already satisfied: webencodings==0.5.1 in ./.venv/lib/python3.12/site-packages (from -r requirements.txt (line 95)) (0.5.1)\n",
      "Requirement already satisfied: websocket-client==1.8.0 in ./.venv/lib/python3.12/site-packages (from -r requirements.txt (line 96)) (1.8.0)\n",
      "Requirement already satisfied: widgetsnbextension==4.0.11 in ./.venv/lib/python3.12/site-packages (from -r requirements.txt (line 97)) (4.0.11)\n",
      "\n",
      "\u001b[1m[\u001b[0m\u001b[34;49mnotice\u001b[0m\u001b[1;39;49m]\u001b[0m\u001b[39;49m A new release of pip is available: \u001b[0m\u001b[31;49m24.0\u001b[0m\u001b[39;49m -> \u001b[0m\u001b[32;49m24.2\u001b[0m\n",
      "\u001b[1m[\u001b[0m\u001b[34;49mnotice\u001b[0m\u001b[1;39;49m]\u001b[0m\u001b[39;49m To update, run: \u001b[0m\u001b[32;49mpip install --upgrade pip\u001b[0m\n"
     ]
    }
   ],
   "source": [
    "%pip install -r requirements.txt"
   ]
  },
  {
   "cell_type": "markdown",
   "metadata": {},
   "source": [
    "## Simulation"
   ]
  },
  {
   "cell_type": "code",
   "execution_count": 10,
   "metadata": {},
   "outputs": [
    {
     "name": "stdout",
     "output_type": "stream",
     "text": [
      "Hello, World!\n"
     ]
    }
   ],
   "source": [
    "from simulator import greet\n",
    "print(greet(\"World\"))"
   ]
  }
 ],
 "metadata": {
  "kernelspec": {
   "display_name": ".venv",
   "language": "python",
   "name": "python3"
  },
  "language_info": {
   "codemirror_mode": {
    "name": "ipython",
    "version": 3
   },
   "file_extension": ".py",
   "mimetype": "text/x-python",
   "name": "python",
   "nbconvert_exporter": "python",
   "pygments_lexer": "ipython3",
   "version": "3.12.4"
  }
 },
 "nbformat": 4,
 "nbformat_minor": 2
}
